{
  "nbformat": 4,
  "nbformat_minor": 0,
  "metadata": {
    "colab": {
      "provenance": [],
      "authorship_tag": "ABX9TyMbBWmjO8U3HxoxrWPg0+bM",
      "include_colab_link": true
    },
    "kernelspec": {
      "name": "python3",
      "display_name": "Python 3"
    },
    "language_info": {
      "name": "python"
    }
  },
  "cells": [
    {
      "cell_type": "markdown",
      "metadata": {
        "id": "view-in-github",
        "colab_type": "text"
      },
      "source": [
        "<a href=\"https://colab.research.google.com/github/Harivamsh2005/AIML-lab/blob/main/Lab_Exercise_Python_Libraries_and_Packages.ipynb\" target=\"_parent\"><img src=\"https://colab.research.google.com/assets/colab-badge.svg\" alt=\"Open In Colab\"/></a>"
      ]
    },
    {
      "cell_type": "code",
      "execution_count": 25,
      "metadata": {
        "colab": {
          "base_uri": "https://localhost:8080/"
        },
        "id": "ms1OoXFdh0Eu",
        "outputId": "44127ab7-ad74-4d8f-a21e-3cad69154338"
      },
      "outputs": [
        {
          "output_type": "stream",
          "name": "stdout",
          "text": [
            "List 1: [2, 3, 4]\n",
            "List 2: [5, 7, 6]\n",
            "<class 'numpy.ndarray'>\n",
            "<class 'numpy.ndarray'>\n",
            "Multiplication of array: [10 21 24]\n",
            "Division of arrays [0.4        0.42857143 0.66666667]\n",
            "Power off  [ 8 27 64]\n",
            "Addition of Two arrays: [2, 3, 4, 5, 7, 6]\n",
            "[ 0.90929743  0.14112001 -0.7568025 ]\n",
            "[0.69314718 1.09861229 1.38629436]\n",
            "[1.        1.5849625 2.       ]\n",
            "[ 7.3890561  20.08553692 54.59815003]\n"
          ]
        }
      ],
      "source": [
        "import numpy as np\n",
        "import pandas as pd\n",
        "#1.LIST\n",
        "l1=[2,3,4]\n",
        "l2=[5,7,6]\n",
        "print(\"List 1:\",l1)\n",
        "print(\"List 2:\",l2)\n",
        "#2.Array\n",
        "arr1 = np.array(l1)\n",
        "arr2 = np.array(l2)\n",
        "#3.Type of arrays\n",
        "print(type(arr1))\n",
        "print(type(arr2))\n",
        "#4.Mathematical operation\n",
        "\n",
        "print(\"Multiplication of array:\", (arr1*arr2))\n",
        "print(\"Division of arrays\",arr1/arr2)\n",
        "print(\"Power off \",np.power(arr1,3))\n",
        "#5.combine text with numpy function\n",
        "\n",
        "\n",
        "print(\"Addition of Two arrays:\",l1+l2)\n",
        "#6.Implimenting numpy values\n",
        "print(np.sin(arr1))\n",
        "print(np.log(arr1))\n",
        "print(np.log2(arr1))\n",
        "print(np.exp(arr1))"
      ]
    }
  ]
}