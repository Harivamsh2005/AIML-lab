{
  "nbformat": 4,
  "nbformat_minor": 0,
  "metadata": {
    "colab": {
      "provenance": [],
      "authorship_tag": "ABX9TyPcQQNTDdCmmpBwaybr1dkd",
      "include_colab_link": true
    },
    "kernelspec": {
      "name": "python3",
      "display_name": "Python 3"
    },
    "language_info": {
      "name": "python"
    }
  },
  "cells": [
    {
      "cell_type": "markdown",
      "metadata": {
        "id": "view-in-github",
        "colab_type": "text"
      },
      "source": [
        "<a href=\"https://colab.research.google.com/github/Harivamsh2005/AIML-lab/blob/main/2303A51266_(SET_A)__Q12_Batch_no_19.ipynb\" target=\"_parent\"><img src=\"https://colab.research.google.com/assets/colab-badge.svg\" alt=\"Open In Colab\"/></a>"
      ]
    },
    {
      "cell_type": "code",
      "execution_count": 5,
      "metadata": {
        "colab": {
          "base_uri": "https://localhost:8080/"
        },
        "id": "VpiqwulMXeb-",
        "outputId": "675b3ed5-2210-43f2-ae52-f8040e948682"
      },
      "outputs": [
        {
          "output_type": "stream",
          "name": "stdout",
          "text": [
            "Top 5 Pollutants Contributing to Air Quality Issues:\n",
            "NOx(GT)     246.896735\n",
            "NMHC(GT)    218.811816\n",
            "NO2(GT)     113.091251\n",
            "C6H6(GT)     10.083105\n",
            "CO(GT)        2.152750\n",
            "dtype: float64\n",
            "\n",
            "Day of the Week with Most Air Quality Issues: Friday\n",
            "\n",
            "Maximum Air Quality Levels:\n",
            "CO(GT)        11.9\n",
            "C6H6(GT)      63.7\n",
            "NOx(GT)     1479.0\n",
            "NO2(GT)      340.0\n",
            "dtype: float64\n",
            "\n",
            "Minimum Air Quality Levels:\n",
            "CO(GT)      0.1\n",
            "C6H6(GT)    0.1\n",
            "NOx(GT)     2.0\n",
            "NO2(GT)     2.0\n",
            "dtype: float64\n",
            "\n",
            "Highest Temperature: 44.6\n",
            "Lowest Temperature: -1.9\n",
            "\n",
            "The dataset doesn't include employee details or qualifications.\n",
            "\n",
            "Clustering Analysis Results:\n",
            "             DateTime  Cluster\n",
            "0 2004-03-10 18:00:00        2\n",
            "1 2004-03-10 19:00:00        2\n",
            "2 2004-03-10 20:00:00        2\n",
            "3 2004-03-10 21:00:00        2\n",
            "4 2004-03-10 22:00:00        2\n"
          ]
        }
      ],
      "source": [
        "import pandas as pd\n",
        "import numpy as np\n",
        "from sklearn.cluster import KMeans\n",
        "from sklearn.preprocessing import StandardScaler\n",
        "\n",
        "# Load the dataset\n",
        "data_path = 'AirQualityUCI[1].csv'  # Replace with your dataset path\n",
        "air_quality_data = pd.read_csv(data_path, sep=';', decimal=',', na_values=-200)\n",
        "\n",
        "# Data Cleaning\n",
        "air_quality_data = air_quality_data.drop(columns=['Unnamed: 15', 'Unnamed: 16'], errors='ignore')\n",
        "air_quality_data['DateTime'] = pd.to_datetime(\n",
        "    air_quality_data['Date'] + ' ' + air_quality_data['Time'],\n",
        "    format='%d/%m/%Y %H.%M.%S',\n",
        "    errors='coerce'\n",
        ")\n",
        "air_quality_data = air_quality_data.dropna(subset=['DateTime'])\n",
        "air_quality_data = air_quality_data.drop(columns=['Date', 'Time'])\n",
        "air_quality_data = air_quality_data.fillna(air_quality_data.mean(numeric_only=True))\n",
        "\n",
        "# 1. Top 5 reasons for air quality issues\n",
        "top_pollutants = air_quality_data[['CO(GT)', 'C6H6(GT)', 'NOx(GT)', 'NO2(GT)', 'NMHC(GT)']].mean().sort_values(ascending=False)\n",
        "print(\"Top 5 Pollutants Contributing to Air Quality Issues:\")\n",
        "print(top_pollutants.head(5))\n",
        "\n",
        "# 2. Day of the week with most air quality issues\n",
        "air_quality_data['DayOfWeek'] = air_quality_data['DateTime'].dt.day_name()\n",
        "weekday_issues = air_quality_data.groupby('DayOfWeek')[['CO(GT)', 'C6H6(GT)', 'NOx(GT)', 'NO2(GT)']].mean().mean(axis=1)\n",
        "print(\"\\nDay of the Week with Most Air Quality Issues:\", weekday_issues.idxmax())\n",
        "\n",
        "# 3. Max and min air quality levels\n",
        "max_levels = air_quality_data[['CO(GT)', 'C6H6(GT)', 'NOx(GT)', 'NO2(GT)']].max()\n",
        "min_levels = air_quality_data[['CO(GT)', 'C6H6(GT)', 'NOx(GT)', 'NO2(GT)']].min()\n",
        "print(\"\\nMaximum Air Quality Levels:\")\n",
        "print(max_levels)\n",
        "print(\"\\nMinimum Air Quality Levels:\")\n",
        "print(min_levels)\n",
        "\n",
        "# 4. Highest and lowest temperatures\n",
        "highest_temp = air_quality_data['T'].max()\n",
        "lowest_temp = air_quality_data['T'].min()\n",
        "print(\"\\nHighest Temperature:\", highest_temp)\n",
        "print(\"Lowest Temperature:\", lowest_temp)\n",
        "\n",
        "# 5. Note on educational qualification of employees\n",
        "print(\"\\nThe dataset doesn't include employee details or qualifications.\")\n",
        "\n",
        "# 6. Clustering Model\n",
        "features = air_quality_data[['CO(GT)', 'C6H6(GT)', 'NOx(GT)', 'NO2(GT)', 'T', 'RH', 'AH']]\n",
        "scaler = StandardScaler()\n",
        "scaled_features = scaler.fit_transform(features)\n",
        "\n",
        "kmeans = KMeans(n_clusters=3, random_state=42)\n",
        "clusters = kmeans.fit_predict(scaled_features)\n",
        "\n",
        "air_quality_data['Cluster'] = clusters\n",
        "print(\"\\nClustering Analysis Results:\")\n",
        "print(air_quality_data[['DateTime', 'Cluster']].head())\n"
      ]
    }
  ]
}